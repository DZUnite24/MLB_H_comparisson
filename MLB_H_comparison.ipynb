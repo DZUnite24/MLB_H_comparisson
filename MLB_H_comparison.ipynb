{
 "cells": [
  {
   "cell_type": "code",
   "execution_count": 6,
   "id": "be021a8d",
   "metadata": {},
   "outputs": [],
   "source": [
    "from bs4 import BeautifulSoup"
   ]
  },
  {
   "cell_type": "code",
   "execution_count": 7,
   "id": "fb43b66d",
   "metadata": {},
   "outputs": [],
   "source": [
    "import requests"
   ]
  },
  {
   "cell_type": "code",
   "execution_count": 8,
   "id": "e5321380",
   "metadata": {},
   "outputs": [],
   "source": [
    "import pandas as pd"
   ]
  },
  {
   "cell_type": "code",
   "execution_count": 25,
   "id": "7340c72f",
   "metadata": {},
   "outputs": [],
   "source": [
    "url = 'https://www.espn.com.mx/beisbol/mlb/estadisticas/equipo/_/vista/batting/tabla/batting/ordenar/hits/dir/desc'"
   ]
  },
  {
   "cell_type": "code",
   "execution_count": 26,
   "id": "5f5fc1e4",
   "metadata": {},
   "outputs": [],
   "source": [
    "page = requests.get(url)\n",
    "soup = BeautifulSoup(page.content, 'html.parser')\n"
   ]
  },
  {
   "cell_type": "code",
   "execution_count": 47,
   "id": "00ebf53b",
   "metadata": {},
   "outputs": [],
   "source": [
    "#Equipos\n",
    "\n",
    "eq = soup.find_all('a', class_='AnchorLink')\n",
    "\n",
    "equipos = list()"
   ]
  },
  {
   "cell_type": "code",
   "execution_count": 48,
   "id": "621353bc",
   "metadata": {},
   "outputs": [],
   "source": [
    "for i in eq:\n",
    "    equipos.append(i.text)"
   ]
  },
  {
   "cell_type": "code",
   "execution_count": 58,
   "id": "66d9af23",
   "metadata": {},
   "outputs": [
    {
     "name": "stdout",
     "output_type": "stream",
     "text": [
      "['Presentado por', 'ESPN', 'Fútbol', 'MLB', 'F. Americano', 'Básquetbol', 'Olímpicos', 'F1', 'Más Deportes', '', 'TV', 'Juegos', 'nav.grid.label', 'MLB', 'Portada', 'Resultados', 'Calendario', 'Posiciones', 'Estadísticas', 'Equipos', 'Bateo', 'Pitcheo', 'Defensa', '', 'New York Mets', '', 'Washington Nationals', '', 'Colorado Rockies', '', 'Boston Red Sox', '', 'Minnesota Twins', '', 'St. Louis Cardinals', '', 'Philadelphia Phillies', '', 'Los Angeles Dodgers', '', 'Los Angeles Angels', '', 'Atlanta Braves', '', 'New York Yankees', '', 'Toronto Blue Jays', '', 'Baltimore Orioles', '', 'Chicago Cubs', '', 'Chicago White Sox', '', 'San Diego Padres', '', 'Kansas City Royals', '', 'Seattle Mariners', '', 'Milwaukee Brewers', '', 'San Francisco Giants', '', 'Miami Marlins', '', 'Houston Astros', '', 'Cleveland Guardians', '', 'Texas Rangers', '', 'Cincinnati Reds', '', 'Tampa Bay Rays', '', 'Arizona Diamondbacks', '', 'Oakland Athletics', '', 'Pittsburgh Pirates', '', 'Detroit Tigers', 'J', 'AB', 'R', 'H', '2B', '3B', 'HR', 'RBI', 'TB', 'BB', 'SO', 'SB', 'AVG', 'OBP', 'SLG', 'OPS', 'Condiciones para el uso', 'Política de Privacidad', 'Anuncios basados en intereses']\n"
     ]
    }
   ],
   "source": [
    "print(equipos)"
   ]
  },
  {
   "cell_type": "code",
   "execution_count": 56,
   "id": "10eed6df",
   "metadata": {},
   "outputs": [
    {
     "data": {
      "text/plain": [
       "102"
      ]
     },
     "execution_count": 56,
     "metadata": {},
     "output_type": "execute_result"
    }
   ],
   "source": [
    "len(equipos)"
   ]
  },
  {
   "cell_type": "code",
   "execution_count": 65,
   "id": "9e4d95fc",
   "metadata": {},
   "outputs": [
    {
     "name": "stdout",
     "output_type": "stream",
     "text": [
      "82\n"
     ]
    }
   ],
   "source": [
    "print(equipos.index('Detroit Tigers'))"
   ]
  },
  {
   "cell_type": "code",
   "execution_count": 64,
   "id": "82eec10f",
   "metadata": {},
   "outputs": [
    {
     "name": "stdout",
     "output_type": "stream",
     "text": [
      "['', 'New York Mets', '', 'Washington Nationals', '', 'Colorado Rockies', '', 'Boston Red Sox', '', 'Minnesota Twins', '', 'St. Louis Cardinals', '', 'Philadelphia Phillies', '', 'Los Angeles Dodgers', '', 'Los Angeles Angels', '', 'Atlanta Braves', '', 'New York Yankees', '', 'Toronto Blue Jays', '', 'Baltimore Orioles', '', 'Chicago Cubs', '', 'Chicago White Sox', '', 'San Diego Padres', '', 'Kansas City Royals', '', 'Seattle Mariners', '', 'Milwaukee Brewers', '', 'San Francisco Giants', '', 'Miami Marlins', '', 'Houston Astros', '', 'Cleveland Guardians', '', 'Texas Rangers', '', 'Cincinnati Reds', '', 'Tampa Bay Rays', '', 'Arizona Diamondbacks', '', 'Oakland Athletics', '', 'Pittsburgh Pirates', '', 'Detroit Tigers']\n"
     ]
    }
   ],
   "source": [
    "print(equipos[23:83])"
   ]
  },
  {
   "cell_type": "code",
   "execution_count": 68,
   "id": "d1c9b833",
   "metadata": {},
   "outputs": [
    {
     "name": "stdout",
     "output_type": "stream",
     "text": [
      "Washington Nationals\n"
     ]
    }
   ],
   "source": [
    "print(equipos[26])"
   ]
  },
  {
   "cell_type": "code",
   "execution_count": 69,
   "id": "69ed35e5",
   "metadata": {},
   "outputs": [],
   "source": [
    "ta = list(equipos[23:83])"
   ]
  },
  {
   "cell_type": "code",
   "execution_count": 73,
   "id": "5b6f7805",
   "metadata": {},
   "outputs": [
    {
     "name": "stdout",
     "output_type": "stream",
     "text": [
      "['', 'New York Mets', '', 'Washington Nationals', '', 'Colorado Rockies', '', 'Boston Red Sox', '', 'Minnesota Twins', '', 'St. Louis Cardinals', '', 'Philadelphia Phillies', '', 'Los Angeles Dodgers', '', 'Los Angeles Angels', '', 'Atlanta Braves', '', 'New York Yankees', '', 'Toronto Blue Jays', '', 'Baltimore Orioles', '', 'Chicago Cubs', '', 'Chicago White Sox', '', 'San Diego Padres', '', 'Kansas City Royals', '', 'Seattle Mariners', '', 'Milwaukee Brewers', '', 'San Francisco Giants', '', 'Miami Marlins', '', 'Houston Astros', '', 'Cleveland Guardians', '', 'Texas Rangers', '', 'Cincinnati Reds', '', 'Tampa Bay Rays', '', 'Arizona Diamondbacks', '', 'Oakland Athletics', '', 'Pittsburgh Pirates', '', 'Detroit Tigers']\n"
     ]
    }
   ],
   "source": [
    "print(ta)"
   ]
  },
  {
   "cell_type": "code",
   "execution_count": 76,
   "id": "47492c83",
   "metadata": {},
   "outputs": [],
   "source": [
    "while '' in ta:\n",
    "    ta.remove('')"
   ]
  },
  {
   "cell_type": "code",
   "execution_count": 100,
   "id": "bcfe8265",
   "metadata": {},
   "outputs": [
    {
     "name": "stdout",
     "output_type": "stream",
     "text": [
      "['New York Mets', 'Washington Nationals', 'Colorado Rockies', 'Boston Red Sox', 'Minnesota Twins', 'St. Louis Cardinals', 'Philadelphia Phillies', 'Los Angeles Dodgers', 'Los Angeles Angels', 'Atlanta Braves', 'New York Yankees', 'Toronto Blue Jays', 'Baltimore Orioles', 'Chicago Cubs', 'Chicago White Sox', 'San Diego Padres', 'Kansas City Royals', 'Seattle Mariners', 'Milwaukee Brewers', 'San Francisco Giants', 'Miami Marlins', 'Houston Astros', 'Cleveland Guardians', 'Texas Rangers', 'Cincinnati Reds', 'Tampa Bay Rays', 'Arizona Diamondbacks', 'Oakland Athletics', 'Pittsburgh Pirates', 'Detroit Tigers']\n"
     ]
    }
   ],
   "source": [
    "print(ta)"
   ]
  },
  {
   "cell_type": "code",
   "execution_count": 145,
   "id": "451d974e",
   "metadata": {},
   "outputs": [
    {
     "data": {
      "text/plain": [
       "['New York Mets',\n",
       " 'Washington Nationals',\n",
       " 'Colorado Rockies',\n",
       " 'Boston Red Sox',\n",
       " 'Minnesota Twins',\n",
       " 'St. Louis Cardinals',\n",
       " 'Philadelphia Phillies',\n",
       " 'Los Angeles Dodgers',\n",
       " 'Los Angeles Angels',\n",
       " 'Atlanta Braves',\n",
       " 'New York Yankees',\n",
       " 'Toronto Blue Jays',\n",
       " 'Baltimore Orioles',\n",
       " 'Chicago Cubs',\n",
       " 'Chicago White Sox',\n",
       " 'San Diego Padres',\n",
       " 'Kansas City Royals',\n",
       " 'Seattle Mariners',\n",
       " 'Milwaukee Brewers',\n",
       " 'San Francisco Giants',\n",
       " 'Miami Marlins',\n",
       " 'Houston Astros',\n",
       " 'Cleveland Guardians',\n",
       " 'Texas Rangers',\n",
       " 'Cincinnati Reds',\n",
       " 'Tampa Bay Rays',\n",
       " 'Arizona Diamondbacks',\n",
       " 'Oakland Athletics',\n",
       " 'Pittsburgh Pirates',\n",
       " 'Detroit Tigers']"
      ]
     },
     "execution_count": 145,
     "metadata": {},
     "output_type": "execute_result"
    }
   ],
   "source": [
    "#Variable donde estan los equipos\n",
    "ta"
   ]
  },
  {
   "cell_type": "code",
   "execution_count": 166,
   "id": "67038277",
   "metadata": {},
   "outputs": [],
   "source": [
    "#Encabezado\n",
    "\n",
    "en = soup.find_all('th', class_='Table__TH')\n",
    "\n",
    "encabezado = list()"
   ]
  },
  {
   "cell_type": "code",
   "execution_count": 167,
   "id": "3637cfdf",
   "metadata": {},
   "outputs": [],
   "source": [
    "for i in en:\n",
    "    encabezado.append(i.text)"
   ]
  },
  {
   "cell_type": "code",
   "execution_count": 168,
   "id": "60bd26db",
   "metadata": {},
   "outputs": [
    {
     "name": "stdout",
     "output_type": "stream",
     "text": [
      "['POS', 'Equipo', 'J', 'AB', 'R', 'H', '2B', '3B', 'HR', 'RBI', 'TB', 'BB', 'SO', 'SB', 'AVG', 'OBP', 'SLG', 'OPS']\n"
     ]
    }
   ],
   "source": [
    "print(encabezado)"
   ]
  },
  {
   "cell_type": "code",
   "execution_count": 169,
   "id": "bcb22abc",
   "metadata": {},
   "outputs": [],
   "source": [
    "encabezado.remove('POS')"
   ]
  },
  {
   "cell_type": "code",
   "execution_count": 170,
   "id": "a75c9e6c",
   "metadata": {},
   "outputs": [
    {
     "name": "stdout",
     "output_type": "stream",
     "text": [
      "['Equipo', 'J', 'AB', 'R', 'H', '2B', '3B', 'HR', 'RBI', 'TB', 'BB', 'SO', 'SB', 'AVG', 'OBP', 'SLG', 'OPS']\n"
     ]
    }
   ],
   "source": [
    "print(encabezado)"
   ]
  },
  {
   "cell_type": "code",
   "execution_count": 171,
   "id": "08124373",
   "metadata": {},
   "outputs": [
    {
     "data": {
      "text/plain": [
       "['Equipo',\n",
       " 'J',\n",
       " 'AB',\n",
       " 'R',\n",
       " 'H',\n",
       " '2B',\n",
       " '3B',\n",
       " 'HR',\n",
       " 'RBI',\n",
       " 'TB',\n",
       " 'BB',\n",
       " 'SO',\n",
       " 'SB',\n",
       " 'AVG',\n",
       " 'OBP',\n",
       " 'SLG',\n",
       " 'OPS']"
      ]
     },
     "execution_count": 171,
     "metadata": {},
     "output_type": "execute_result"
    }
   ],
   "source": [
    "#Variable donde estan los encabezados\n",
    "encabezado"
   ]
  },
  {
   "cell_type": "code",
   "execution_count": 173,
   "id": "3da2b521",
   "metadata": {},
   "outputs": [],
   "source": [
    "df = pd.DataFrame({'Equipos': ta,})"
   ]
  },
  {
   "cell_type": "code",
   "execution_count": 174,
   "id": "a91f4103",
   "metadata": {},
   "outputs": [
    {
     "name": "stdout",
     "output_type": "stream",
     "text": [
      "                  Equipos\n",
      "0           New York Mets\n",
      "1    Washington Nationals\n",
      "2        Colorado Rockies\n",
      "3          Boston Red Sox\n",
      "4         Minnesota Twins\n",
      "5     St. Louis Cardinals\n",
      "6   Philadelphia Phillies\n",
      "7     Los Angeles Dodgers\n",
      "8      Los Angeles Angels\n",
      "9          Atlanta Braves\n",
      "10       New York Yankees\n",
      "11      Toronto Blue Jays\n",
      "12      Baltimore Orioles\n",
      "13           Chicago Cubs\n",
      "14      Chicago White Sox\n",
      "15       San Diego Padres\n",
      "16     Kansas City Royals\n",
      "17       Seattle Mariners\n",
      "18      Milwaukee Brewers\n",
      "19   San Francisco Giants\n",
      "20          Miami Marlins\n",
      "21         Houston Astros\n",
      "22    Cleveland Guardians\n",
      "23          Texas Rangers\n",
      "24        Cincinnati Reds\n",
      "25         Tampa Bay Rays\n",
      "26   Arizona Diamondbacks\n",
      "27      Oakland Athletics\n",
      "28     Pittsburgh Pirates\n",
      "29         Detroit Tigers\n"
     ]
    }
   ],
   "source": [
    "print(df)"
   ]
  },
  {
   "cell_type": "code",
   "execution_count": null,
   "id": "d48484f8",
   "metadata": {},
   "outputs": [],
   "source": []
  }
 ],
 "metadata": {
  "kernelspec": {
   "display_name": "Python 3",
   "language": "python",
   "name": "python3"
  },
  "language_info": {
   "codemirror_mode": {
    "name": "ipython",
    "version": 3
   },
   "file_extension": ".py",
   "mimetype": "text/x-python",
   "name": "python",
   "nbconvert_exporter": "python",
   "pygments_lexer": "ipython3",
   "version": "3.8.8"
  }
 },
 "nbformat": 4,
 "nbformat_minor": 5
}
